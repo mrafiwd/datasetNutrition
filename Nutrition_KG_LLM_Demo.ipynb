{
  "cells": [
    {
      "cell_type": "markdown",
      "metadata": {
        "id": "view-in-github",
        "colab_type": "text"
      },
      "source": [
        "<a href=\"https://colab.research.google.com/github/mrafiwd/datasetNutrition/blob/main/Nutrition_KG_LLM_Demo.ipynb\" target=\"_parent\"><img src=\"https://colab.research.google.com/assets/colab-badge.svg\" alt=\"Open In Colab\"/></a>"
      ]
    },
    {
      "cell_type": "markdown",
      "metadata": {
        "id": "YbHU4J9SNztV"
      },
      "source": [
        "# Knowledge Graph dan RAG untuk Data Nutrisi Makanan Indonesia\n",
        "## Tujuan Proyek\n",
        "Proyek ini bertujuan untuk membangun sebuah sistem tanya-jawab cerdas mengenai nutrisi makanan dengan alur kerja sebagai berikut:\n",
        "\n",
        "\n",
        "1.   **Membangun Knowledge Graph** (KG): Mengubah data tabular (CSV) tentang nutrisi menjadi sebuah graf yang terstruktur di dalam database Neo4j menggunakan Large Language Model (LLM).\n",
        "2.   **Implementasi RAG**: Mengembangkan sistem Retrieval-Augmented Generation (RAG) yang menggunakan KG tersebut sebagai basis pengetahuan utama.\n",
        "3. **Hasil Akhir**: Menciptakan aplikasi interaktif yang mampu menjawab pertanyaan pengguna secara faktual berdasarkan data yang diambil langsung dari Knowledge Graph.\n",
        "\n",
        "\n",
        "\n",
        "\n"
      ]
    },
    {
      "cell_type": "markdown",
      "source": [
        "# **Notes**\n",
        "Dataset yang digunakan dalam implementasi ini merupakan subset dari kumpulan data yang lebih besar. Kami mengurangi jumlah data yang diambil menjadi 200 row untuk menyesuaikan dengan batasan rate limit (15 permintaan per menit) yang berlaku pada API Google Gemini (via AI Studio), sehingga proses pembangunan knowledge graph dapat diselesaikan dalam waktu yang wajar untuk tujuan demonstrasi ini.\n",
        "\n",
        "Berikut link dataset:\n",
        "[https://www.kaggle.com/datasets/anasfikrihanif/indonesian-food-and-drink-nutrition-dataset](https://www.kaggle.com/datasets/anasfikrihanif/indonesian-food-and-drink-nutrition-dataset)\n",
        "\n",
        "Jadi, dataset yang sudah disesuaikan dapat diakses pada:\n",
        "[https://github.com/mrafiwd/datasetNutrition/blob/main/nutrition.csv](https://github.com/mrafiwd/datasetNutrition/blob/main/nutrition.csv)"
      ],
      "metadata": {
        "id": "bFBKHBzxnhAS"
      }
    },
    {
      "cell_type": "code",
      "source": [
        "%pip uninstall google-generativeai google-ai-generativelanguage -y"
      ],
      "metadata": {
        "colab": {
          "base_uri": "https://localhost:8080/"
        },
        "id": "z4as60ZIsGDw",
        "outputId": "dac47c7f-4133-4b86-c8f6-008da5dc08f3"
      },
      "execution_count": null,
      "outputs": [
        {
          "output_type": "stream",
          "name": "stdout",
          "text": [
            "\u001b[33mWARNING: Skipping google-generativeai as it is not installed.\u001b[0m\u001b[33m\n",
            "\u001b[0mFound existing installation: google-ai-generativelanguage 0.6.18\n",
            "Uninstalling google-ai-generativelanguage-0.6.18:\n",
            "  Successfully uninstalled google-ai-generativelanguage-0.6.18\n"
          ]
        }
      ]
    },
    {
      "cell_type": "code",
      "execution_count": null,
      "metadata": {
        "id": "0lZaG2bpNztY"
      },
      "outputs": [],
      "source": [
        "# 1. Instalasi Pustaka yang Diperlukan\n",
        "# Perintah ini akan menginstal semua library yang dibutuhkan untuk proyek ini.\n",
        "!pip install -U -q langchain langchain-google-genai langchain-experimental neo4j pandas requests tqdm langchain_neo4j"
      ]
    },
    {
      "cell_type": "markdown",
      "source": [
        "## Input your own credentials:\n",
        "1. GOOGLE_API_KEY (use https://aistudio.google.com/apikey to generate gemini api key)\n",
        "2. NEO4J_URI\n",
        "3. NEO4J_USERNAME\n",
        "4. NEO4J_PASSWORD\n",
        "\n",
        "Untuk Kredensial Neo4j bisa didapatkan pada Connection Details dari Project Sandbox yang dibuat."
      ],
      "metadata": {
        "id": "jzYJX7rCfMjT"
      }
    },
    {
      "cell_type": "code",
      "source": [
        "# Sel 2: Impor dan Kredensial\n",
        "import os\n",
        "import getpass\n",
        "import requests\n",
        "import asyncio\n",
        "import pandas as pd\n",
        "from tqdm.auto import tqdm # Menggunakan tqdm.auto\n",
        "\n",
        "# --- Impor ---\n",
        "from langchain_core.documents import Document\n",
        "from langchain_google_genai import ChatGoogleGenerativeAI\n",
        "from langchain_experimental.graph_transformers import LLMGraphTransformer\n",
        "from langchain_neo4j import Neo4jGraph\n",
        "from google.colab import userdata\n",
        "\n",
        "# --- Impor tambahan untuk RAG ---\n",
        "from langchain_core.prompts import ChatPromptTemplate\n",
        "from langchain_core.runnables import RunnablePassthrough\n",
        "from langchain_core.output_parsers import StrOutputParser\n",
        "\n",
        "# Pengaturan Kredensial\n",
        "os.environ['GOOGLE_API_KEY'] = userdata.get('GOOGLE_API_KEY') #using secrets\n",
        "\n",
        "NEO4J_URI = \"bolt://100.27.17.174:7687\"\n",
        "NEO4J_USERNAME = \"neo4j\"\n",
        "NEO4J_PASSWORD = \"chip-prerequisite-sharpeners\"\n",
        "\n",
        "os.environ[\"NEO4J_URI\"] = NEO4J_URI\n",
        "os.environ[\"NEO4J_USERNAME\"] = NEO4J_USERNAME\n",
        "os.environ[\"NEO4J_PASSWORD\"] = NEO4J_PASSWORD"
      ],
      "metadata": {
        "id": "EWgCft9NBQxT"
      },
      "execution_count": null,
      "outputs": []
    },
    {
      "cell_type": "markdown",
      "source": [
        "# Inisialisasi Komponen Inti\n",
        "\n",
        "\n",
        "1.   Menginisialisasi dua objek LLM terpisah: graph_creation_llm untuk pembuatan graf dan rag_llm untuk RAG, guna menghindari konflik konfigurasi.\n",
        "2.   Menyiapkan LLMGraphTransformer yang bertugas mengubah teks menjadi struktur graf.\n",
        "3. Menyiapkan objek Neo4jGraph sebagai konektor ke database."
      ],
      "metadata": {
        "id": "o_j9y9qhlh0J"
      }
    },
    {
      "cell_type": "code",
      "source": [
        "# Sel 3: Inisialisasi Komponen (Versi Definitif dengan LLM Terpisah)\n",
        "\n",
        "# LLM #1: Khusus untuk membuat graf. Cukup pakai model yang cepat seperti flash.\n",
        "graph_creation_llm = ChatGoogleGenerativeAI(model=\"gemini-2.0-flash\", temperature=0)\n",
        "\n",
        "llm_transformer = LLMGraphTransformer(\n",
        "    llm=graph_creation_llm,\n",
        "    allowed_nodes=[\"Food\", \"Nutrient\", \"Value\", \"Unit\"],\n",
        "    node_properties=[\"name\", \"calories\", \"protein\", \"carbohydrate\", \"fat\"],\n",
        "    allowed_relationships=[\"HAS_NUTRIENT\", \"HAS_VALUE\", \"HAS_UNIT\"]\n",
        ")\n",
        "\n",
        "# Inisialisasi koneksi ke database Neo4j (tetap sama)\n",
        "graph = Neo4jGraph()\n",
        "\n",
        "print(\"✅ Komponen berhasil diinisialisasi dengan LLM terpisah.\")"
      ],
      "metadata": {
        "id": "AWIAJcNCBmzL",
        "colab": {
          "base_uri": "https://localhost:8080/"
        },
        "outputId": "09bb3b99-d7ea-4e45-a58e-a21b4bcfae93"
      },
      "execution_count": null,
      "outputs": [
        {
          "output_type": "stream",
          "name": "stdout",
          "text": [
            "✅ Komponen berhasil diinisialisasi dengan LLM terpisah.\n"
          ]
        }
      ]
    },
    {
      "cell_type": "markdown",
      "source": [
        "# Definisi Arsitektur dan Logika Inti\n",
        "\n",
        "\n",
        "1.   **create_graph_if_needed()**: Berisi logika untuk menjalankan pipeline ETL (Extract, Transform, Load) dari file CSV ke database Neo4j untuk membangun Knowledge Graph."
      ],
      "metadata": {
        "id": "DcJOAN7Jl566"
      }
    },
    {
      "cell_type": "code",
      "source": [
        "# Sel 4: Definisi Fungsi (Versi Baru)\n",
        "\n",
        "# Import tqdm yang sesuai\n",
        "from tqdm.auto import tqdm\n",
        "\n",
        "# Definisi fungsi 'load_and_process_csv_from_url' tetap sama, tidak perlu diubah.\n",
        "def load_and_process_csv_from_url(url, batch_size=5):\n",
        "    try:\n",
        "        df = pd.read_csv(url)\n",
        "        print(\"Dataset CSV berhasil dimuat. Berikut 5 baris pertama:\")\n",
        "        print(df.head())\n",
        "    except Exception as e:\n",
        "        print(f\"Error membaca file CSV dari URL: {e}\")\n",
        "        return []\n",
        "    sentences = []\n",
        "    for _, row in df.iterrows():\n",
        "        row = row.fillna('')\n",
        "        food_name = str(row.get('name', '')).strip()\n",
        "        if food_name:\n",
        "            calories = row.get('calories', 0)\n",
        "            protein = row.get('proteins', 0)\n",
        "            carbohydrate = row.get('carbohydrate', 0)\n",
        "            fat = row.get('fat', 0)\n",
        "            sentence = f\"Makanan bernama {food_name} memiliki {calories} kalori, {protein} gram protein, {carbohydrate} gram karbohidrat, dan {fat} gram lemak.\"\n",
        "            sentences.append(sentence)\n",
        "    if not sentences:\n",
        "        print(\"\\n❌ Peringatan: Tidak ada kalimat yang berhasil dibuat. Periksa nama kolom di kode dan CSV.\")\n",
        "        return []\n",
        "    batched_documents = []\n",
        "    for i in range(0, len(sentences), batch_size):\n",
        "        batch_content = \"\\n\".join(sentences[i:i+batch_size])\n",
        "        batched_documents.append(Document(page_content=batch_content))\n",
        "    print(f\"\\nData berhasil diubah. Total kalimat: {len(sentences)}. Dibagi menjadi {len(batched_documents)} batch.\")\n",
        "    return batched_documents\n",
        "\n",
        "\n",
        "async def process_documents_to_graph(documents):\n",
        "    \"\"\"\n",
        "    Versi perbaikan: Menggunakan 'await' dengan benar di dalam perulangan for standar.\n",
        "    \"\"\"\n",
        "    graph_documents = []\n",
        "    # Gunakan perulangan for standar dengan progress bar dari tqdm\n",
        "    for doc in tqdm(documents, desc=\"Mengubah dokumen menjadi graf...\"):\n",
        "        # 1. 'await' untuk mendapatkan hasil (sebuah list) dari coroutine\n",
        "        graph_doc_result = await llm_transformer.aconvert_to_graph_documents([doc])\n",
        "\n",
        "        # 2. Lakukan .extend() pada hasil yang sudah didapatkan\n",
        "        graph_documents.extend(graph_doc_result)\n",
        "\n",
        "        # 3. Tetap berikan jeda untuk rate limiting\n",
        "        await asyncio.sleep(4)\n",
        "    return graph_documents\n",
        "# ==============================================================================\n",
        "\n",
        "\n",
        "# Definisi fungsi 'main' juga tetap sama\n",
        "async def create_graph_if_needed():\n",
        "    github_csv_url = \"https://raw.githubusercontent.com/mrafiwd/datasetNutrition/refs/heads/main/nutrition.csv\"\n",
        "    BATCH_SIZE = 3\n",
        "    documents_to_process = load_and_process_csv_from_url(github_csv_url, batch_size=BATCH_SIZE)\n",
        "    if documents_to_process:\n",
        "        final_graph_documents = await process_documents_to_graph(documents_to_process)\n",
        "        print(\"\\n--- Hasil Ekstraksi Graf ---\")\n",
        "        if final_graph_documents:\n",
        "            all_nodes = [node for doc in final_graph_documents for node in doc.nodes]\n",
        "            all_relationships = [rel for doc in final_graph_documents for rel in doc.relationships]\n",
        "            unique_nodes = list({node.id: node for node in all_nodes}.values())\n",
        "            print(f\"Total Node unik diekstrak: {len(unique_nodes)}\")\n",
        "            print(f\"Total Relasi diekstrak: {len(all_relationships)}\")\n",
        "\n",
        "            print(\"\\nMenyimpan graf ke database Neo4j...\")\n",
        "            # PERBAIKAN: Hapus argumen 'base_entity_label'\n",
        "            graph.add_graph_documents(\n",
        "                final_graph_documents,\n",
        "                include_source=True\n",
        "            )\n",
        "            print(\"✅ Graf berhasil disimpan ke Neo4j.\")\n",
        "        else:\n",
        "            print(\"❌ Tidak ada graf yang berhasil dibuat dari dokumen.\")\n",
        "    else:\n",
        "        print(\"❌ Proses dihentikan karena tidak ada data yang bisa diproses menjadi kalimat.\")"
      ],
      "metadata": {
        "id": "_Z1hn8s0BvEC"
      },
      "execution_count": null,
      "outputs": []
    },
    {
      "cell_type": "markdown",
      "source": [
        "# Eksekusi\n",
        "*   Sel di bawah memanggil **create_graph_if_needed** untuk mengisi database (apabila sudah membuat graf, tidak perlu dijalankan).\n",
        "*   Sel berikutnya memulai sesi tanya-jawab interaktif dengan pengguna."
      ],
      "metadata": {
        "id": "wvKlPaD4mU14"
      }
    },
    {
      "cell_type": "markdown",
      "source": [
        "Menjalankan create_graph_if_needed untuk membuat knowledge graph"
      ],
      "metadata": {
        "id": "LFjhjGpUDkSz"
      }
    },
    {
      "cell_type": "code",
      "source": [
        "# Anda bisa menjalankan pembuatan graf terlebih dahulu jika database kosong\n",
        "await create_graph_if_needed() #Jika database sudah ada, line ini tidak perlu di-run"
      ],
      "metadata": {
        "colab": {
          "base_uri": "https://localhost:8080/",
          "height": 448,
          "referenced_widgets": [
            "0fbd50aa19384dc097de0d2219475cc3",
            "ba95f342ed3745958d9ecccae7b43181",
            "2f96f0b917a74ad3bc85adf159ef99ac",
            "07872edc57374307b7dfcd3d534f386f",
            "8e6dff52568a4c06981a6de51c11f770",
            "d00cac85780940fb991916ae8bb1d904",
            "c58585a2cce94bcaacdac00955d31f1f",
            "6649785e04234550bd216d161fdfc284",
            "87b11c930c2c4d32845474a2ee6f68e0",
            "9aaa75ee98a54c27ba81e0388982a45c",
            "d897d37cad164cbe8a78f89dc61e1959"
          ]
        },
        "id": "q58By8ZkDhjb",
        "outputId": "635cea0a-10c8-4221-be4d-24503189a38d"
      },
      "execution_count": null,
      "outputs": [
        {
          "output_type": "stream",
          "name": "stdout",
          "text": [
            "Dataset CSV berhasil dimuat. Berikut 5 baris pertama:\n",
            "  id  calories  proteins   fat  carbohydrate                name  \\\n",
            "0  1     280.0       9.2  28.4           0.0                Abon   \n",
            "1  2     513.0      23.7  37.0          21.3        Abon haruwan   \n",
            "2  3       0.0       0.0   0.2           0.0           Agar-agar   \n",
            "3  4      45.0       1.1   0.4          10.8  Akar tonjong segar   \n",
            "4  5      37.0       4.4   0.5           3.8       Aletoge segar   \n",
            "\n",
            "                                               image  \n",
            "0  https://img-cdn.medkomtek.com/PbrY9X3ignQ8sVuj...  \n",
            "1  https://img-global.cpcdn.com/recipes/cbf330fbd...  \n",
            "2  https://res.cloudinary.com/dk0z4ums3/image/upl...  \n",
            "3  https://images.tokopedia.net/img/cache/200-squ...  \n",
            "4  https://nilaigizi.com/assets/images/produk/pro...  \n",
            "\n",
            "Data berhasil diubah. Total kalimat: 191. Dibagi menjadi 64 batch.\n"
          ]
        },
        {
          "output_type": "display_data",
          "data": {
            "text/plain": [
              "Mengubah dokumen menjadi graf...:   0%|          | 0/64 [00:00<?, ?it/s]"
            ],
            "application/vnd.jupyter.widget-view+json": {
              "version_major": 2,
              "version_minor": 0,
              "model_id": "0fbd50aa19384dc097de0d2219475cc3"
            }
          },
          "metadata": {}
        },
        {
          "output_type": "stream",
          "name": "stdout",
          "text": [
            "\n",
            "--- Hasil Ekstraksi Graf ---\n",
            "Total Node unik diekstrak: 210\n",
            "Total Relasi diekstrak: 72\n",
            "\n",
            "Menyimpan graf ke database Neo4j...\n",
            "✅ Graf berhasil disimpan ke Neo4j.\n"
          ]
        }
      ]
    },
    {
      "cell_type": "markdown",
      "source": [
        "# Definisi Arsitektur Graph Retriever dan RAG Chain\n",
        "1.   **graph_retriever()**: Fungsi inti RAG. Fungsinya mengambil pertanyaan pengguna, mencari node :Food yang relevan di Neo4j menggunakan Full-Text Index, dan mengembalikan properti dari node tersebut sebagai konteks.\n",
        "2. **rag_chain**: Merangkai retriever, prompt, dan rag_llm menjadi satu alur kerja tanya-jawab menggunakan LangChain Expression Language (LCEL)."
      ],
      "metadata": {
        "id": "vi_76SL0m6BQ"
      }
    },
    {
      "cell_type": "code",
      "source": [
        "# Sel 5: Menyiapkan Retriever dari Knowledge Graph\n",
        "# ==============================================================================\n",
        "# Buat rantai (chain) kecil untuk mengekstrak kata kunci dari pertanyaan pengguna\n",
        "keyword_extraction_prompt = ChatPromptTemplate.from_messages(\n",
        "    [\n",
        "        (\n",
        "            \"system\",\n",
        "            \"You are a helpful assistant. Your task is to extract the main food name or nutrient from the user's question. Only return the extracted keyword, nothing else.\",\n",
        "        ),\n",
        "        (\"human\", \"{question}\"),\n",
        "    ]\n",
        ")\n",
        "keyword_extractor_chain = keyword_extraction_prompt | graph_creation_llm | StrOutputParser()\n",
        "\n",
        "def graph_retriever(question: str):\n",
        "    \"\"\"\n",
        "    Versi Definitif: Menggunakan Full-Text Search Index Neo4j untuk pencarian\n",
        "    yang akurat dan andal.\n",
        "    \"\"\"\n",
        "\n",
        "    # Mengatur bahwa keyword yang digunakan adalah question langsung\n",
        "    keyword = question\n",
        "    # Query Cypher yang menggunakan Full-Text Index.\n",
        "    # Ini jauh lebih kuat daripada CONTAINS atau STARTS WITH.\n",
        "    cypher_query = \"\"\"\n",
        "    CALL db.index.fulltext.queryNodes(\"food_search_index\", $keyword) YIELD node AS n, score\n",
        "    WITH n, score ORDER BY score DESC LIMIT 1 // Ambil hasil teratas yang paling relevan\n",
        "    MATCH (n)-[r]-(m)\n",
        "    RETURN n, r, m\n",
        "    \"\"\"\n",
        "    try:\n",
        "        result = graph.query(cypher_query, params={\"keyword\": keyword})\n",
        "        if not result:\n",
        "             return \"Konteks tidak ditemukan di Knowledge Graph untuk kata kunci ini.\"\n",
        "        print(f\"Konteks ditemukan untuk '{keyword}':\\n{result}\") # Tambahkan print untuk debugging\n",
        "        return f\"Konteks dari Knowledge Graph:\\n{result}\"\n",
        "    except Exception as e:\n",
        "        return f\"Gagal mengambil data dari graf: {e}\""
      ],
      "metadata": {
        "id": "z-KQ9u9k1Wzs"
      },
      "execution_count": null,
      "outputs": []
    },
    {
      "cell_type": "code",
      "source": [
        "# Sel 6: Membuat RAG Chain Lengkap\n",
        "# ==============================================================================\n",
        "# Template prompt untuk RAG\n",
        "rag_prompt_template = \"\"\"Anda adalah asisten AI yang ahli dalam data nutrisi makanan.\n",
        "Jawab pertanyaan pengguna secara ringkas dan jelas HANYA berdasarkan konteks yang diberikan dari knowledge graph.\n",
        "Jika konteks tidak menyediakan informasi yang cukup, katakan bahwa Anda tidak menemukan datanya.\n",
        "\n",
        "Konteks dari Knowledge Graph:\n",
        "{context}\n",
        "\n",
        "Pertanyaan Pengguna:\n",
        "{question}\n",
        "\n",
        "Jawaban Anda:\n",
        "\"\"\"\n",
        "\n",
        "rag_prompt = ChatPromptTemplate.from_template(rag_prompt_template)\n",
        "\n",
        "# Merangkai semua komponen menjadi satu RAG chain menggunakan LCEL\n",
        "rag_chain = (\n",
        "    {\"context\": graph_retriever, \"question\": RunnablePassthrough()}\n",
        "    | rag_prompt\n",
        "    | graph_creation_llm\n",
        "    | StrOutputParser()\n",
        ")"
      ],
      "metadata": {
        "id": "DqNtdJcGd_Ht"
      },
      "execution_count": null,
      "outputs": []
    },
    {
      "cell_type": "markdown",
      "source": [
        "# Contoh Pertanyaan yang Bisa Ditanyakan\n",
        "\n",
        "\n",
        "1. \"jelaskan tentang abon\"\n",
        "2. \"bagaimana nutrisi untuk alpukat?\"\n",
        "3. \"info gizi agar-agar\"\n",
        "4. \"kalori pada apel\"\n",
        "5. \"abon haruwan\"\n",
        "\n",
        "## **Notes**\n",
        "Untuk makanan yang bisa ditanyakan terbatas hanya pada dataset yang terdapat di Github:\n",
        "[https://github.com/mrafiwd/datasetNutrition/blob/main/nutrition.csv](https://github.com/mrafiwd/datasetNutrition/blob/main/nutrition.csv)"
      ],
      "metadata": {
        "id": "yIvKWD762KBk"
      }
    },
    {
      "cell_type": "code",
      "source": [
        "# Sel 7: Eksekusi dan Pengujian\n",
        "# ==============================================================================\n",
        "\n",
        "# --- Sekarang Anda bisa mulai bertanya ---\n",
        "print(\"\\n--- Sistem Tanya-Jawab Nutrisi Berbasis Knowledge Graph ---\")\n",
        "print(\"Ketik 'exit' untuk keluar.\")\n",
        "\n",
        "while True:\n",
        "    pertanyaan = input(\"\\nSilakan bertanya tentang nutrisi makanan: \")\n",
        "    if pertanyaan.lower() == 'exit':\n",
        "        break\n",
        "    if pertanyaan:\n",
        "        # Memanggil RAG chain untuk mendapatkan jawaban\n",
        "        jawaban = rag_chain.invoke(pertanyaan)\n",
        "        print(\"\\nJawaban:\")\n",
        "        print(jawaban)"
      ],
      "metadata": {
        "colab": {
          "base_uri": "https://localhost:8080/"
        },
        "id": "CBKati5hCzwW",
        "outputId": "77665fe2-44bc-481d-e5dd-0a398ac3c1ba",
        "collapsed": true
      },
      "execution_count": null,
      "outputs": [
        {
          "name": "stdout",
          "output_type": "stream",
          "text": [
            "\n",
            "--- Sistem Tanya-Jawab Nutrisi Berbasis Knowledge Graph ---\n",
            "Ketik 'exit' untuk keluar.\n",
            "\n",
            "Silakan bertanya tentang nutrisi makanan: lemak dan karbohidrat pada abon haruwan\n",
            "Konteks ditemukan untuk 'lemak dan karbohidrat pada abon haruwan':\n",
            "[{'n': {'fat': '37.0', 'id': 'Abon Haruwan', 'calories': '513.0', 'carbohydrate': '21.3', 'protein': '23.7'}, 'r': ({'id': '96518f7fac904b5772e8c7275d129c8e', 'text': 'Makanan bernama Abon memiliki 280.0 kalori, 9.2 gram protein, 0.0 gram karbohidrat, dan 28.4 gram lemak.\\nMakanan bernama Abon haruwan memiliki 513.0 kalori, 23.7 gram protein, 21.3 gram karbohidrat, dan 37.0 gram lemak.\\nMakanan bernama Agar-agar memiliki 0.0 kalori, 0.0 gram protein, 0.0 gram karbohidrat, dan 0.2 gram lemak.'}, 'MENTIONS', {'fat': '37.0', 'id': 'Abon Haruwan', 'calories': '513.0', 'carbohydrate': '21.3', 'protein': '23.7'}), 'm': {'id': '96518f7fac904b5772e8c7275d129c8e', 'text': 'Makanan bernama Abon memiliki 280.0 kalori, 9.2 gram protein, 0.0 gram karbohidrat, dan 28.4 gram lemak.\\nMakanan bernama Abon haruwan memiliki 513.0 kalori, 23.7 gram protein, 21.3 gram karbohidrat, dan 37.0 gram lemak.\\nMakanan bernama Agar-agar memiliki 0.0 kalori, 0.0 gram protein, 0.0 gram karbohidrat, dan 0.2 gram lemak.'}}]\n",
            "\n",
            "Jawaban:\n",
            "Abon Haruwan memiliki 37.0 gram lemak dan 21.3 gram karbohidrat.\n",
            "\n",
            "Silakan bertanya tentang nutrisi makanan: exit\n"
          ]
        }
      ]
    }
  ],
  "metadata": {
    "kernelspec": {
      "display_name": "Python 3",
      "language": "python",
      "name": "python3"
    },
    "language_info": {
      "name": "python",
      "version": ""
    },
    "colab": {
      "provenance": [],
      "include_colab_link": true
    },
    "widgets": {
      "application/vnd.jupyter.widget-state+json": {
        "0fbd50aa19384dc097de0d2219475cc3": {
          "model_module": "@jupyter-widgets/controls",
          "model_name": "HBoxModel",
          "model_module_version": "1.5.0",
          "state": {
            "_dom_classes": [],
            "_model_module": "@jupyter-widgets/controls",
            "_model_module_version": "1.5.0",
            "_model_name": "HBoxModel",
            "_view_count": null,
            "_view_module": "@jupyter-widgets/controls",
            "_view_module_version": "1.5.0",
            "_view_name": "HBoxView",
            "box_style": "",
            "children": [
              "IPY_MODEL_ba95f342ed3745958d9ecccae7b43181",
              "IPY_MODEL_2f96f0b917a74ad3bc85adf159ef99ac",
              "IPY_MODEL_07872edc57374307b7dfcd3d534f386f"
            ],
            "layout": "IPY_MODEL_8e6dff52568a4c06981a6de51c11f770"
          }
        },
        "ba95f342ed3745958d9ecccae7b43181": {
          "model_module": "@jupyter-widgets/controls",
          "model_name": "HTMLModel",
          "model_module_version": "1.5.0",
          "state": {
            "_dom_classes": [],
            "_model_module": "@jupyter-widgets/controls",
            "_model_module_version": "1.5.0",
            "_model_name": "HTMLModel",
            "_view_count": null,
            "_view_module": "@jupyter-widgets/controls",
            "_view_module_version": "1.5.0",
            "_view_name": "HTMLView",
            "description": "",
            "description_tooltip": null,
            "layout": "IPY_MODEL_d00cac85780940fb991916ae8bb1d904",
            "placeholder": "​",
            "style": "IPY_MODEL_c58585a2cce94bcaacdac00955d31f1f",
            "value": "Mengubah dokumen menjadi graf...: 100%"
          }
        },
        "2f96f0b917a74ad3bc85adf159ef99ac": {
          "model_module": "@jupyter-widgets/controls",
          "model_name": "FloatProgressModel",
          "model_module_version": "1.5.0",
          "state": {
            "_dom_classes": [],
            "_model_module": "@jupyter-widgets/controls",
            "_model_module_version": "1.5.0",
            "_model_name": "FloatProgressModel",
            "_view_count": null,
            "_view_module": "@jupyter-widgets/controls",
            "_view_module_version": "1.5.0",
            "_view_name": "ProgressView",
            "bar_style": "success",
            "description": "",
            "description_tooltip": null,
            "layout": "IPY_MODEL_6649785e04234550bd216d161fdfc284",
            "max": 64,
            "min": 0,
            "orientation": "horizontal",
            "style": "IPY_MODEL_87b11c930c2c4d32845474a2ee6f68e0",
            "value": 64
          }
        },
        "07872edc57374307b7dfcd3d534f386f": {
          "model_module": "@jupyter-widgets/controls",
          "model_name": "HTMLModel",
          "model_module_version": "1.5.0",
          "state": {
            "_dom_classes": [],
            "_model_module": "@jupyter-widgets/controls",
            "_model_module_version": "1.5.0",
            "_model_name": "HTMLModel",
            "_view_count": null,
            "_view_module": "@jupyter-widgets/controls",
            "_view_module_version": "1.5.0",
            "_view_name": "HTMLView",
            "description": "",
            "description_tooltip": null,
            "layout": "IPY_MODEL_9aaa75ee98a54c27ba81e0388982a45c",
            "placeholder": "​",
            "style": "IPY_MODEL_d897d37cad164cbe8a78f89dc61e1959",
            "value": " 64/64 [06:29&lt;00:00,  5.67s/it]"
          }
        },
        "8e6dff52568a4c06981a6de51c11f770": {
          "model_module": "@jupyter-widgets/base",
          "model_name": "LayoutModel",
          "model_module_version": "1.2.0",
          "state": {
            "_model_module": "@jupyter-widgets/base",
            "_model_module_version": "1.2.0",
            "_model_name": "LayoutModel",
            "_view_count": null,
            "_view_module": "@jupyter-widgets/base",
            "_view_module_version": "1.2.0",
            "_view_name": "LayoutView",
            "align_content": null,
            "align_items": null,
            "align_self": null,
            "border": null,
            "bottom": null,
            "display": null,
            "flex": null,
            "flex_flow": null,
            "grid_area": null,
            "grid_auto_columns": null,
            "grid_auto_flow": null,
            "grid_auto_rows": null,
            "grid_column": null,
            "grid_gap": null,
            "grid_row": null,
            "grid_template_areas": null,
            "grid_template_columns": null,
            "grid_template_rows": null,
            "height": null,
            "justify_content": null,
            "justify_items": null,
            "left": null,
            "margin": null,
            "max_height": null,
            "max_width": null,
            "min_height": null,
            "min_width": null,
            "object_fit": null,
            "object_position": null,
            "order": null,
            "overflow": null,
            "overflow_x": null,
            "overflow_y": null,
            "padding": null,
            "right": null,
            "top": null,
            "visibility": null,
            "width": null
          }
        },
        "d00cac85780940fb991916ae8bb1d904": {
          "model_module": "@jupyter-widgets/base",
          "model_name": "LayoutModel",
          "model_module_version": "1.2.0",
          "state": {
            "_model_module": "@jupyter-widgets/base",
            "_model_module_version": "1.2.0",
            "_model_name": "LayoutModel",
            "_view_count": null,
            "_view_module": "@jupyter-widgets/base",
            "_view_module_version": "1.2.0",
            "_view_name": "LayoutView",
            "align_content": null,
            "align_items": null,
            "align_self": null,
            "border": null,
            "bottom": null,
            "display": null,
            "flex": null,
            "flex_flow": null,
            "grid_area": null,
            "grid_auto_columns": null,
            "grid_auto_flow": null,
            "grid_auto_rows": null,
            "grid_column": null,
            "grid_gap": null,
            "grid_row": null,
            "grid_template_areas": null,
            "grid_template_columns": null,
            "grid_template_rows": null,
            "height": null,
            "justify_content": null,
            "justify_items": null,
            "left": null,
            "margin": null,
            "max_height": null,
            "max_width": null,
            "min_height": null,
            "min_width": null,
            "object_fit": null,
            "object_position": null,
            "order": null,
            "overflow": null,
            "overflow_x": null,
            "overflow_y": null,
            "padding": null,
            "right": null,
            "top": null,
            "visibility": null,
            "width": null
          }
        },
        "c58585a2cce94bcaacdac00955d31f1f": {
          "model_module": "@jupyter-widgets/controls",
          "model_name": "DescriptionStyleModel",
          "model_module_version": "1.5.0",
          "state": {
            "_model_module": "@jupyter-widgets/controls",
            "_model_module_version": "1.5.0",
            "_model_name": "DescriptionStyleModel",
            "_view_count": null,
            "_view_module": "@jupyter-widgets/base",
            "_view_module_version": "1.2.0",
            "_view_name": "StyleView",
            "description_width": ""
          }
        },
        "6649785e04234550bd216d161fdfc284": {
          "model_module": "@jupyter-widgets/base",
          "model_name": "LayoutModel",
          "model_module_version": "1.2.0",
          "state": {
            "_model_module": "@jupyter-widgets/base",
            "_model_module_version": "1.2.0",
            "_model_name": "LayoutModel",
            "_view_count": null,
            "_view_module": "@jupyter-widgets/base",
            "_view_module_version": "1.2.0",
            "_view_name": "LayoutView",
            "align_content": null,
            "align_items": null,
            "align_self": null,
            "border": null,
            "bottom": null,
            "display": null,
            "flex": null,
            "flex_flow": null,
            "grid_area": null,
            "grid_auto_columns": null,
            "grid_auto_flow": null,
            "grid_auto_rows": null,
            "grid_column": null,
            "grid_gap": null,
            "grid_row": null,
            "grid_template_areas": null,
            "grid_template_columns": null,
            "grid_template_rows": null,
            "height": null,
            "justify_content": null,
            "justify_items": null,
            "left": null,
            "margin": null,
            "max_height": null,
            "max_width": null,
            "min_height": null,
            "min_width": null,
            "object_fit": null,
            "object_position": null,
            "order": null,
            "overflow": null,
            "overflow_x": null,
            "overflow_y": null,
            "padding": null,
            "right": null,
            "top": null,
            "visibility": null,
            "width": null
          }
        },
        "87b11c930c2c4d32845474a2ee6f68e0": {
          "model_module": "@jupyter-widgets/controls",
          "model_name": "ProgressStyleModel",
          "model_module_version": "1.5.0",
          "state": {
            "_model_module": "@jupyter-widgets/controls",
            "_model_module_version": "1.5.0",
            "_model_name": "ProgressStyleModel",
            "_view_count": null,
            "_view_module": "@jupyter-widgets/base",
            "_view_module_version": "1.2.0",
            "_view_name": "StyleView",
            "bar_color": null,
            "description_width": ""
          }
        },
        "9aaa75ee98a54c27ba81e0388982a45c": {
          "model_module": "@jupyter-widgets/base",
          "model_name": "LayoutModel",
          "model_module_version": "1.2.0",
          "state": {
            "_model_module": "@jupyter-widgets/base",
            "_model_module_version": "1.2.0",
            "_model_name": "LayoutModel",
            "_view_count": null,
            "_view_module": "@jupyter-widgets/base",
            "_view_module_version": "1.2.0",
            "_view_name": "LayoutView",
            "align_content": null,
            "align_items": null,
            "align_self": null,
            "border": null,
            "bottom": null,
            "display": null,
            "flex": null,
            "flex_flow": null,
            "grid_area": null,
            "grid_auto_columns": null,
            "grid_auto_flow": null,
            "grid_auto_rows": null,
            "grid_column": null,
            "grid_gap": null,
            "grid_row": null,
            "grid_template_areas": null,
            "grid_template_columns": null,
            "grid_template_rows": null,
            "height": null,
            "justify_content": null,
            "justify_items": null,
            "left": null,
            "margin": null,
            "max_height": null,
            "max_width": null,
            "min_height": null,
            "min_width": null,
            "object_fit": null,
            "object_position": null,
            "order": null,
            "overflow": null,
            "overflow_x": null,
            "overflow_y": null,
            "padding": null,
            "right": null,
            "top": null,
            "visibility": null,
            "width": null
          }
        },
        "d897d37cad164cbe8a78f89dc61e1959": {
          "model_module": "@jupyter-widgets/controls",
          "model_name": "DescriptionStyleModel",
          "model_module_version": "1.5.0",
          "state": {
            "_model_module": "@jupyter-widgets/controls",
            "_model_module_version": "1.5.0",
            "_model_name": "DescriptionStyleModel",
            "_view_count": null,
            "_view_module": "@jupyter-widgets/base",
            "_view_module_version": "1.2.0",
            "_view_name": "StyleView",
            "description_width": ""
          }
        }
      }
    }
  },
  "nbformat": 4,
  "nbformat_minor": 0
}